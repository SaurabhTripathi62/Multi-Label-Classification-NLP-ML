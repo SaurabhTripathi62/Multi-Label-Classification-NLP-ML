{
 "cells": [
  {
   "cell_type": "markdown",
   "metadata": {},
   "source": [
    "### To predict complain belong to which group\n",
    "##### multilevel classification, noise handling in data,Rakel multi label classification model\n"
   ]
  },
  {
   "cell_type": "code",
   "execution_count": 2,
   "metadata": {},
   "outputs": [],
   "source": [
    "path=r\"Saurabh Assignment - Sheet1.csv\""
   ]
  },
  {
   "cell_type": "code",
   "execution_count": 3,
   "metadata": {},
   "outputs": [],
   "source": [
    "import pandas as pd"
   ]
  },
  {
   "cell_type": "code",
   "execution_count": 4,
   "metadata": {},
   "outputs": [],
   "source": [
    "df=pd.read_csv(path)"
   ]
  },
  {
   "cell_type": "code",
   "execution_count": 5,
   "metadata": {},
   "outputs": [
    {
     "data": {
      "text/html": [
       "<div>\n",
       "<style scoped>\n",
       "    .dataframe tbody tr th:only-of-type {\n",
       "        vertical-align: middle;\n",
       "    }\n",
       "\n",
       "    .dataframe tbody tr th {\n",
       "        vertical-align: top;\n",
       "    }\n",
       "\n",
       "    .dataframe thead th {\n",
       "        text-align: right;\n",
       "    }\n",
       "</style>\n",
       "<table border=\"1\" class=\"dataframe\">\n",
       "  <thead>\n",
       "    <tr style=\"text-align: right;\">\n",
       "      <th></th>\n",
       "      <th>sn</th>\n",
       "      <th>Comments</th>\n",
       "      <th>Labels</th>\n",
       "    </tr>\n",
       "  </thead>\n",
       "  <tbody>\n",
       "    <tr>\n",
       "      <th>0</th>\n",
       "      <td>1</td>\n",
       "      <td>I was not able to use my card, made my patment...</td>\n",
       "      <td>Account Maintenance &amp; Closing ,Credit/Debit Ca...</td>\n",
       "    </tr>\n",
       "    <tr>\n",
       "      <th>1</th>\n",
       "      <td>2</td>\n",
       "      <td>The rebate is a good thing for having a  ABC Y...</td>\n",
       "      <td>Brand ,Customer Service ,Payments ,Policy ,Pro...</td>\n",
       "    </tr>\n",
       "    <tr>\n",
       "      <th>2</th>\n",
       "      <td>3</td>\n",
       "      <td>The person understood my problem.</td>\n",
       "      <td>Representative ,Representative ,Representative</td>\n",
       "    </tr>\n",
       "    <tr>\n",
       "      <th>3</th>\n",
       "      <td>4</td>\n",
       "      <td>Generally not a long time waiting for an agent...</td>\n",
       "      <td>Account Communications ,Brand ,Fraud Alerts ,F...</td>\n",
       "    </tr>\n",
       "    <tr>\n",
       "      <th>4</th>\n",
       "      <td>5</td>\n",
       "      <td>I received an e-mail from  ABC starting that I...</td>\n",
       "      <td>Customer Service ,Fraud and Disputes ,Issue Re...</td>\n",
       "    </tr>\n",
       "  </tbody>\n",
       "</table>\n",
       "</div>"
      ],
      "text/plain": [
       "   sn                                           Comments  \\\n",
       "0   1  I was not able to use my card, made my patment...   \n",
       "1   2  The rebate is a good thing for having a  ABC Y...   \n",
       "2   3                  The person understood my problem.   \n",
       "3   4  Generally not a long time waiting for an agent...   \n",
       "4   5  I received an e-mail from  ABC starting that I...   \n",
       "\n",
       "                                              Labels  \n",
       "0  Account Maintenance & Closing ,Credit/Debit Ca...  \n",
       "1  Brand ,Customer Service ,Payments ,Policy ,Pro...  \n",
       "2    Representative ,Representative ,Representative   \n",
       "3  Account Communications ,Brand ,Fraud Alerts ,F...  \n",
       "4  Customer Service ,Fraud and Disputes ,Issue Re...  "
      ]
     },
     "execution_count": 5,
     "metadata": {},
     "output_type": "execute_result"
    }
   ],
   "source": [
    "df.head()"
   ]
  },
  {
   "cell_type": "code",
   "execution_count": 6,
   "metadata": {},
   "outputs": [
    {
     "data": {
      "text/plain": [
       "(7416, 3)"
      ]
     },
     "execution_count": 6,
     "metadata": {},
     "output_type": "execute_result"
    }
   ],
   "source": [
    "df.shape"
   ]
  },
  {
   "cell_type": "code",
   "execution_count": 7,
   "metadata": {},
   "outputs": [],
   "source": [
    "df=df[[\"Comments\",\"Labels\"]]"
   ]
  },
  {
   "cell_type": "code",
   "execution_count": 9,
   "metadata": {},
   "outputs": [],
   "source": [
    "df_temp=df#.sample(frac=.50)  using full data now"
   ]
  },
  {
   "cell_type": "code",
   "execution_count": 10,
   "metadata": {},
   "outputs": [],
   "source": [
    "df_sample=df_temp\n"
   ]
  },
  {
   "cell_type": "code",
   "execution_count": 11,
   "metadata": {},
   "outputs": [
    {
     "data": {
      "text/plain": [
       "(7416, 2)"
      ]
     },
     "execution_count": 11,
     "metadata": {},
     "output_type": "execute_result"
    }
   ],
   "source": [
    "df_sample.shape"
   ]
  },
  {
   "cell_type": "code",
   "execution_count": 12,
   "metadata": {},
   "outputs": [
    {
     "data": {
      "text/html": [
       "<div>\n",
       "<style scoped>\n",
       "    .dataframe tbody tr th:only-of-type {\n",
       "        vertical-align: middle;\n",
       "    }\n",
       "\n",
       "    .dataframe tbody tr th {\n",
       "        vertical-align: top;\n",
       "    }\n",
       "\n",
       "    .dataframe thead th {\n",
       "        text-align: right;\n",
       "    }\n",
       "</style>\n",
       "<table border=\"1\" class=\"dataframe\">\n",
       "  <thead>\n",
       "    <tr style=\"text-align: right;\">\n",
       "      <th></th>\n",
       "      <th>Comments</th>\n",
       "      <th>Labels</th>\n",
       "    </tr>\n",
       "  </thead>\n",
       "  <tbody>\n",
       "    <tr>\n",
       "      <th>0</th>\n",
       "      <td>I was not able to use my card, made my patment...</td>\n",
       "      <td>Account Maintenance &amp; Closing ,Credit/Debit Ca...</td>\n",
       "    </tr>\n",
       "    <tr>\n",
       "      <th>1</th>\n",
       "      <td>The rebate is a good thing for having a  ABC Y...</td>\n",
       "      <td>Brand ,Customer Service ,Payments ,Policy ,Pro...</td>\n",
       "    </tr>\n",
       "    <tr>\n",
       "      <th>2</th>\n",
       "      <td>The person understood my problem.</td>\n",
       "      <td>Representative ,Representative ,Representative</td>\n",
       "    </tr>\n",
       "    <tr>\n",
       "      <th>3</th>\n",
       "      <td>Generally not a long time waiting for an agent...</td>\n",
       "      <td>Account Communications ,Brand ,Fraud Alerts ,F...</td>\n",
       "    </tr>\n",
       "    <tr>\n",
       "      <th>4</th>\n",
       "      <td>I received an e-mail from  ABC starting that I...</td>\n",
       "      <td>Customer Service ,Fraud and Disputes ,Issue Re...</td>\n",
       "    </tr>\n",
       "    <tr>\n",
       "      <th>5</th>\n",
       "      <td>I was happy with my service but I don't like t...</td>\n",
       "      <td>Customer Service</td>\n",
       "    </tr>\n",
       "    <tr>\n",
       "      <th>6</th>\n",
       "      <td>Based on my experience with your reliable serv...</td>\n",
       "      <td>Customer Service</td>\n",
       "    </tr>\n",
       "    <tr>\n",
       "      <th>7</th>\n",
       "      <td>I had no issue with ABC i just did not underst...</td>\n",
       "      <td>Account Maintenance &amp; Closing ,Credit/Debit Ca...</td>\n",
       "    </tr>\n",
       "    <tr>\n",
       "      <th>8</th>\n",
       "      <td>card was declined because cup didn't work on m...</td>\n",
       "      <td>ATM ,Credit/Debit Card</td>\n",
       "    </tr>\n",
       "    <tr>\n",
       "      <th>9</th>\n",
       "      <td>Were very helpful</td>\n",
       "      <td>Representative</td>\n",
       "    </tr>\n",
       "  </tbody>\n",
       "</table>\n",
       "</div>"
      ],
      "text/plain": [
       "                                            Comments  \\\n",
       "0  I was not able to use my card, made my patment...   \n",
       "1  The rebate is a good thing for having a  ABC Y...   \n",
       "2                  The person understood my problem.   \n",
       "3  Generally not a long time waiting for an agent...   \n",
       "4  I received an e-mail from  ABC starting that I...   \n",
       "5  I was happy with my service but I don't like t...   \n",
       "6  Based on my experience with your reliable serv...   \n",
       "7  I had no issue with ABC i just did not underst...   \n",
       "8  card was declined because cup didn't work on m...   \n",
       "9                                  Were very helpful   \n",
       "\n",
       "                                              Labels  \n",
       "0  Account Maintenance & Closing ,Credit/Debit Ca...  \n",
       "1  Brand ,Customer Service ,Payments ,Policy ,Pro...  \n",
       "2    Representative ,Representative ,Representative   \n",
       "3  Account Communications ,Brand ,Fraud Alerts ,F...  \n",
       "4  Customer Service ,Fraud and Disputes ,Issue Re...  \n",
       "5                                  Customer Service   \n",
       "6                                  Customer Service   \n",
       "7  Account Maintenance & Closing ,Credit/Debit Ca...  \n",
       "8                            ATM ,Credit/Debit Card   \n",
       "9                                    Representative   "
      ]
     },
     "execution_count": 12,
     "metadata": {},
     "output_type": "execute_result"
    }
   ],
   "source": [
    "df_sample.head(10)"
   ]
  },
  {
   "cell_type": "code",
   "execution_count": 13,
   "metadata": {},
   "outputs": [
    {
     "data": {
      "text/plain": [
       "Comments    7416\n",
       "Labels      7416\n",
       "dtype: int64"
      ]
     },
     "execution_count": 13,
     "metadata": {},
     "output_type": "execute_result"
    }
   ],
   "source": [
    "df_sample.notnull().count()"
   ]
  },
  {
   "cell_type": "code",
   "execution_count": 14,
   "metadata": {},
   "outputs": [
    {
     "data": {
      "text/html": [
       "<div>\n",
       "<style scoped>\n",
       "    .dataframe tbody tr th:only-of-type {\n",
       "        vertical-align: middle;\n",
       "    }\n",
       "\n",
       "    .dataframe tbody tr th {\n",
       "        vertical-align: top;\n",
       "    }\n",
       "\n",
       "    .dataframe thead th {\n",
       "        text-align: right;\n",
       "    }\n",
       "</style>\n",
       "<table border=\"1\" class=\"dataframe\">\n",
       "  <thead>\n",
       "    <tr style=\"text-align: right;\">\n",
       "      <th></th>\n",
       "      <th>Comments</th>\n",
       "      <th>Labels</th>\n",
       "    </tr>\n",
       "  </thead>\n",
       "  <tbody>\n",
       "    <tr>\n",
       "      <th>count</th>\n",
       "      <td>7416</td>\n",
       "      <td>7416</td>\n",
       "    </tr>\n",
       "    <tr>\n",
       "      <th>unique</th>\n",
       "      <td>6951</td>\n",
       "      <td>1367</td>\n",
       "    </tr>\n",
       "    <tr>\n",
       "      <th>top</th>\n",
       "      <td>Good service</td>\n",
       "      <td>Representative</td>\n",
       "    </tr>\n",
       "    <tr>\n",
       "      <th>freq</th>\n",
       "      <td>98</td>\n",
       "      <td>1160</td>\n",
       "    </tr>\n",
       "  </tbody>\n",
       "</table>\n",
       "</div>"
      ],
      "text/plain": [
       "            Comments           Labels\n",
       "count           7416             7416\n",
       "unique          6951             1367\n",
       "top     Good service  Representative \n",
       "freq              98             1160"
      ]
     },
     "execution_count": 14,
     "metadata": {},
     "output_type": "execute_result"
    }
   ],
   "source": [
    "df_sample.describe()"
   ]
  },
  {
   "cell_type": "code",
   "execution_count": 15,
   "metadata": {},
   "outputs": [],
   "source": [
    "df_sample.drop_duplicates(subset=\"Comments\",inplace=True)"
   ]
  },
  {
   "cell_type": "code",
   "execution_count": 16,
   "metadata": {},
   "outputs": [
    {
     "data": {
      "text/html": [
       "<div>\n",
       "<style scoped>\n",
       "    .dataframe tbody tr th:only-of-type {\n",
       "        vertical-align: middle;\n",
       "    }\n",
       "\n",
       "    .dataframe tbody tr th {\n",
       "        vertical-align: top;\n",
       "    }\n",
       "\n",
       "    .dataframe thead th {\n",
       "        text-align: right;\n",
       "    }\n",
       "</style>\n",
       "<table border=\"1\" class=\"dataframe\">\n",
       "  <thead>\n",
       "    <tr style=\"text-align: right;\">\n",
       "      <th></th>\n",
       "      <th>Comments</th>\n",
       "      <th>Labels</th>\n",
       "    </tr>\n",
       "  </thead>\n",
       "  <tbody>\n",
       "    <tr>\n",
       "      <th>count</th>\n",
       "      <td>6951</td>\n",
       "      <td>6951</td>\n",
       "    </tr>\n",
       "    <tr>\n",
       "      <th>unique</th>\n",
       "      <td>6951</td>\n",
       "      <td>1367</td>\n",
       "    </tr>\n",
       "    <tr>\n",
       "      <th>top</th>\n",
       "      <td>Every time I have ever dealt with  ABC I have ...</td>\n",
       "      <td>Representative</td>\n",
       "    </tr>\n",
       "    <tr>\n",
       "      <th>freq</th>\n",
       "      <td>1</td>\n",
       "      <td>1094</td>\n",
       "    </tr>\n",
       "  </tbody>\n",
       "</table>\n",
       "</div>"
      ],
      "text/plain": [
       "                                                 Comments           Labels\n",
       "count                                                6951             6951\n",
       "unique                                               6951             1367\n",
       "top     Every time I have ever dealt with  ABC I have ...  Representative \n",
       "freq                                                    1             1094"
      ]
     },
     "execution_count": 16,
     "metadata": {},
     "output_type": "execute_result"
    }
   ],
   "source": [
    "df_sample.describe()"
   ]
  },
  {
   "cell_type": "code",
   "execution_count": 17,
   "metadata": {},
   "outputs": [
    {
     "data": {
      "text/html": [
       "<div>\n",
       "<style scoped>\n",
       "    .dataframe tbody tr th:only-of-type {\n",
       "        vertical-align: middle;\n",
       "    }\n",
       "\n",
       "    .dataframe tbody tr th {\n",
       "        vertical-align: top;\n",
       "    }\n",
       "\n",
       "    .dataframe thead th {\n",
       "        text-align: right;\n",
       "    }\n",
       "</style>\n",
       "<table border=\"1\" class=\"dataframe\">\n",
       "  <thead>\n",
       "    <tr style=\"text-align: right;\">\n",
       "      <th></th>\n",
       "      <th>Comments</th>\n",
       "      <th>Labels</th>\n",
       "    </tr>\n",
       "  </thead>\n",
       "  <tbody>\n",
       "    <tr>\n",
       "      <th>0</th>\n",
       "      <td>I was not able to use my card, made my patment...</td>\n",
       "      <td>Account Maintenance &amp; Closing ,Credit/Debit Ca...</td>\n",
       "    </tr>\n",
       "    <tr>\n",
       "      <th>1</th>\n",
       "      <td>The rebate is a good thing for having a  ABC Y...</td>\n",
       "      <td>Brand ,Customer Service ,Payments ,Policy ,Pro...</td>\n",
       "    </tr>\n",
       "    <tr>\n",
       "      <th>2</th>\n",
       "      <td>The person understood my problem.</td>\n",
       "      <td>Representative ,Representative ,Representative</td>\n",
       "    </tr>\n",
       "    <tr>\n",
       "      <th>3</th>\n",
       "      <td>Generally not a long time waiting for an agent...</td>\n",
       "      <td>Account Communications ,Brand ,Fraud Alerts ,F...</td>\n",
       "    </tr>\n",
       "    <tr>\n",
       "      <th>4</th>\n",
       "      <td>I received an e-mail from  ABC starting that I...</td>\n",
       "      <td>Customer Service ,Fraud and Disputes ,Issue Re...</td>\n",
       "    </tr>\n",
       "  </tbody>\n",
       "</table>\n",
       "</div>"
      ],
      "text/plain": [
       "                                            Comments  \\\n",
       "0  I was not able to use my card, made my patment...   \n",
       "1  The rebate is a good thing for having a  ABC Y...   \n",
       "2                  The person understood my problem.   \n",
       "3  Generally not a long time waiting for an agent...   \n",
       "4  I received an e-mail from  ABC starting that I...   \n",
       "\n",
       "                                              Labels  \n",
       "0  Account Maintenance & Closing ,Credit/Debit Ca...  \n",
       "1  Brand ,Customer Service ,Payments ,Policy ,Pro...  \n",
       "2    Representative ,Representative ,Representative   \n",
       "3  Account Communications ,Brand ,Fraud Alerts ,F...  \n",
       "4  Customer Service ,Fraud and Disputes ,Issue Re...  "
      ]
     },
     "execution_count": 17,
     "metadata": {},
     "output_type": "execute_result"
    }
   ],
   "source": [
    "df_sample.head()"
   ]
  },
  {
   "cell_type": "code",
   "execution_count": 18,
   "metadata": {},
   "outputs": [
    {
     "data": {
      "text/plain": [
       "Comments    I was not able to use my card, made my patment...\n",
       "Labels      Account Maintenance & Closing ,Credit/Debit Ca...\n",
       "Name: 0, dtype: object"
      ]
     },
     "execution_count": 18,
     "metadata": {},
     "output_type": "execute_result"
    }
   ],
   "source": [
    "col=[\"Comments\",\"Labels\"]\n",
    "df_sample.iloc[0]"
   ]
  },
  {
   "cell_type": "code",
   "execution_count": 19,
   "metadata": {},
   "outputs": [],
   "source": [
    "for i in range(len(df_sample)):\n",
    "    temp_list=[]\n",
    "    temp=df_sample[\"Labels\"].iloc[i].split(\",\")\n",
    "    for ele in temp:\n",
    "        if ele in temp_list:\n",
    "            pass\n",
    "        else:\n",
    "            temp_list.append(ele)\n",
    "    df_sample[\"Labels\"].iloc[i]=temp_list"
   ]
  },
  {
   "cell_type": "code",
   "execution_count": 20,
   "metadata": {},
   "outputs": [
    {
     "data": {
      "text/plain": [
       "0    [Account Maintenance & Closing , Credit/Debit ...\n",
       "1    [Brand , Customer Service , Payments , Policy ...\n",
       "2                                    [Representative ]\n",
       "3    [Account Communications , Brand , Fraud Alerts...\n",
       "4    [Customer Service , Fraud and Disputes , Issue...\n",
       "5                                  [Customer Service ]\n",
       "6                                  [Customer Service ]\n",
       "7    [Account Maintenance & Closing , Credit/Debit ...\n",
       "8                           [ATM , Credit/Debit Card ]\n",
       "9                                    [Representative ]\n",
       "Name: Labels, dtype: object"
      ]
     },
     "execution_count": 20,
     "metadata": {},
     "output_type": "execute_result"
    }
   ],
   "source": [
    "\n",
    "df_sample[\"Labels\"].iloc[0:10]"
   ]
  },
  {
   "cell_type": "code",
   "execution_count": 21,
   "metadata": {},
   "outputs": [
    {
     "data": {
      "text/html": [
       "<div>\n",
       "<style scoped>\n",
       "    .dataframe tbody tr th:only-of-type {\n",
       "        vertical-align: middle;\n",
       "    }\n",
       "\n",
       "    .dataframe tbody tr th {\n",
       "        vertical-align: top;\n",
       "    }\n",
       "\n",
       "    .dataframe thead th {\n",
       "        text-align: right;\n",
       "    }\n",
       "</style>\n",
       "<table border=\"1\" class=\"dataframe\">\n",
       "  <thead>\n",
       "    <tr style=\"text-align: right;\">\n",
       "      <th></th>\n",
       "      <th>Comments</th>\n",
       "      <th>Labels</th>\n",
       "    </tr>\n",
       "  </thead>\n",
       "  <tbody>\n",
       "    <tr>\n",
       "      <th>0</th>\n",
       "      <td>I was not able to use my card, made my patment...</td>\n",
       "      <td>[Account Maintenance &amp; Closing , Credit/Debit ...</td>\n",
       "    </tr>\n",
       "    <tr>\n",
       "      <th>1</th>\n",
       "      <td>The rebate is a good thing for having a  ABC Y...</td>\n",
       "      <td>[Brand , Customer Service , Payments , Policy ...</td>\n",
       "    </tr>\n",
       "    <tr>\n",
       "      <th>2</th>\n",
       "      <td>The person understood my problem.</td>\n",
       "      <td>[Representative ]</td>\n",
       "    </tr>\n",
       "    <tr>\n",
       "      <th>3</th>\n",
       "      <td>Generally not a long time waiting for an agent...</td>\n",
       "      <td>[Account Communications , Brand , Fraud Alerts...</td>\n",
       "    </tr>\n",
       "    <tr>\n",
       "      <th>4</th>\n",
       "      <td>I received an e-mail from  ABC starting that I...</td>\n",
       "      <td>[Customer Service , Fraud and Disputes , Issue...</td>\n",
       "    </tr>\n",
       "    <tr>\n",
       "      <th>5</th>\n",
       "      <td>I was happy with my service but I don't like t...</td>\n",
       "      <td>[Customer Service ]</td>\n",
       "    </tr>\n",
       "    <tr>\n",
       "      <th>6</th>\n",
       "      <td>Based on my experience with your reliable serv...</td>\n",
       "      <td>[Customer Service ]</td>\n",
       "    </tr>\n",
       "    <tr>\n",
       "      <th>7</th>\n",
       "      <td>I had no issue with ABC i just did not underst...</td>\n",
       "      <td>[Account Maintenance &amp; Closing , Credit/Debit ...</td>\n",
       "    </tr>\n",
       "    <tr>\n",
       "      <th>8</th>\n",
       "      <td>card was declined because cup didn't work on m...</td>\n",
       "      <td>[ATM , Credit/Debit Card ]</td>\n",
       "    </tr>\n",
       "    <tr>\n",
       "      <th>9</th>\n",
       "      <td>Were very helpful</td>\n",
       "      <td>[Representative ]</td>\n",
       "    </tr>\n",
       "  </tbody>\n",
       "</table>\n",
       "</div>"
      ],
      "text/plain": [
       "                                            Comments  \\\n",
       "0  I was not able to use my card, made my patment...   \n",
       "1  The rebate is a good thing for having a  ABC Y...   \n",
       "2                  The person understood my problem.   \n",
       "3  Generally not a long time waiting for an agent...   \n",
       "4  I received an e-mail from  ABC starting that I...   \n",
       "5  I was happy with my service but I don't like t...   \n",
       "6  Based on my experience with your reliable serv...   \n",
       "7  I had no issue with ABC i just did not underst...   \n",
       "8  card was declined because cup didn't work on m...   \n",
       "9                                  Were very helpful   \n",
       "\n",
       "                                              Labels  \n",
       "0  [Account Maintenance & Closing , Credit/Debit ...  \n",
       "1  [Brand , Customer Service , Payments , Policy ...  \n",
       "2                                  [Representative ]  \n",
       "3  [Account Communications , Brand , Fraud Alerts...  \n",
       "4  [Customer Service , Fraud and Disputes , Issue...  \n",
       "5                                [Customer Service ]  \n",
       "6                                [Customer Service ]  \n",
       "7  [Account Maintenance & Closing , Credit/Debit ...  \n",
       "8                         [ATM , Credit/Debit Card ]  \n",
       "9                                  [Representative ]  "
      ]
     },
     "execution_count": 21,
     "metadata": {},
     "output_type": "execute_result"
    }
   ],
   "source": [
    "df_sample.head(10)"
   ]
  },
  {
   "cell_type": "code",
   "execution_count": 22,
   "metadata": {},
   "outputs": [],
   "source": [
    "#list to string\n",
    "for i in range(len(df_sample)):\n",
    "    temp_str=' '\n",
    "    temps=temp_str.join(df_sample[\"Labels\"].iloc[i])\n",
    "    df_sample[\"Labels\"].iloc[i]=temps"
   ]
  },
  {
   "cell_type": "code",
   "execution_count": 23,
   "metadata": {},
   "outputs": [
    {
     "data": {
      "text/html": [
       "<div>\n",
       "<style scoped>\n",
       "    .dataframe tbody tr th:only-of-type {\n",
       "        vertical-align: middle;\n",
       "    }\n",
       "\n",
       "    .dataframe tbody tr th {\n",
       "        vertical-align: top;\n",
       "    }\n",
       "\n",
       "    .dataframe thead th {\n",
       "        text-align: right;\n",
       "    }\n",
       "</style>\n",
       "<table border=\"1\" class=\"dataframe\">\n",
       "  <thead>\n",
       "    <tr style=\"text-align: right;\">\n",
       "      <th></th>\n",
       "      <th>Comments</th>\n",
       "      <th>Labels</th>\n",
       "    </tr>\n",
       "  </thead>\n",
       "  <tbody>\n",
       "    <tr>\n",
       "      <th>0</th>\n",
       "      <td>I was not able to use my card, made my patment...</td>\n",
       "      <td>Account Maintenance &amp; Closing  Credit/Debit Ca...</td>\n",
       "    </tr>\n",
       "    <tr>\n",
       "      <th>1</th>\n",
       "      <td>The rebate is a good thing for having a  ABC Y...</td>\n",
       "      <td>Brand  Customer Service  Payments  Policy  Pro...</td>\n",
       "    </tr>\n",
       "    <tr>\n",
       "      <th>2</th>\n",
       "      <td>The person understood my problem.</td>\n",
       "      <td>Representative</td>\n",
       "    </tr>\n",
       "    <tr>\n",
       "      <th>3</th>\n",
       "      <td>Generally not a long time waiting for an agent...</td>\n",
       "      <td>Account Communications  Brand  Fraud Alerts  F...</td>\n",
       "    </tr>\n",
       "    <tr>\n",
       "      <th>4</th>\n",
       "      <td>I received an e-mail from  ABC starting that I...</td>\n",
       "      <td>Customer Service  Fraud and Disputes  Issue Re...</td>\n",
       "    </tr>\n",
       "    <tr>\n",
       "      <th>5</th>\n",
       "      <td>I was happy with my service but I don't like t...</td>\n",
       "      <td>Customer Service</td>\n",
       "    </tr>\n",
       "    <tr>\n",
       "      <th>6</th>\n",
       "      <td>Based on my experience with your reliable serv...</td>\n",
       "      <td>Customer Service</td>\n",
       "    </tr>\n",
       "    <tr>\n",
       "      <th>7</th>\n",
       "      <td>I had no issue with ABC i just did not underst...</td>\n",
       "      <td>Account Maintenance &amp; Closing  Credit/Debit Ca...</td>\n",
       "    </tr>\n",
       "    <tr>\n",
       "      <th>8</th>\n",
       "      <td>card was declined because cup didn't work on m...</td>\n",
       "      <td>ATM  Credit/Debit Card</td>\n",
       "    </tr>\n",
       "    <tr>\n",
       "      <th>9</th>\n",
       "      <td>Were very helpful</td>\n",
       "      <td>Representative</td>\n",
       "    </tr>\n",
       "  </tbody>\n",
       "</table>\n",
       "</div>"
      ],
      "text/plain": [
       "                                            Comments  \\\n",
       "0  I was not able to use my card, made my patment...   \n",
       "1  The rebate is a good thing for having a  ABC Y...   \n",
       "2                  The person understood my problem.   \n",
       "3  Generally not a long time waiting for an agent...   \n",
       "4  I received an e-mail from  ABC starting that I...   \n",
       "5  I was happy with my service but I don't like t...   \n",
       "6  Based on my experience with your reliable serv...   \n",
       "7  I had no issue with ABC i just did not underst...   \n",
       "8  card was declined because cup didn't work on m...   \n",
       "9                                  Were very helpful   \n",
       "\n",
       "                                              Labels  \n",
       "0  Account Maintenance & Closing  Credit/Debit Ca...  \n",
       "1  Brand  Customer Service  Payments  Policy  Pro...  \n",
       "2                                    Representative   \n",
       "3  Account Communications  Brand  Fraud Alerts  F...  \n",
       "4  Customer Service  Fraud and Disputes  Issue Re...  \n",
       "5                                  Customer Service   \n",
       "6                                  Customer Service   \n",
       "7  Account Maintenance & Closing  Credit/Debit Ca...  \n",
       "8                            ATM  Credit/Debit Card   \n",
       "9                                    Representative   "
      ]
     },
     "execution_count": 23,
     "metadata": {},
     "output_type": "execute_result"
    }
   ],
   "source": [
    "df_sample.head(10)"
   ]
  },
  {
   "cell_type": "code",
   "execution_count": 24,
   "metadata": {},
   "outputs": [],
   "source": [
    "df_sample.columns.name=\"s\""
   ]
  },
  {
   "cell_type": "code",
   "execution_count": 25,
   "metadata": {},
   "outputs": [
    {
     "data": {
      "text/html": [
       "<div>\n",
       "<style scoped>\n",
       "    .dataframe tbody tr th:only-of-type {\n",
       "        vertical-align: middle;\n",
       "    }\n",
       "\n",
       "    .dataframe tbody tr th {\n",
       "        vertical-align: top;\n",
       "    }\n",
       "\n",
       "    .dataframe thead th {\n",
       "        text-align: right;\n",
       "    }\n",
       "</style>\n",
       "<table border=\"1\" class=\"dataframe\">\n",
       "  <thead>\n",
       "    <tr style=\"text-align: right;\">\n",
       "      <th>s</th>\n",
       "      <th>Comments</th>\n",
       "      <th>Labels</th>\n",
       "    </tr>\n",
       "  </thead>\n",
       "  <tbody>\n",
       "    <tr>\n",
       "      <th>0</th>\n",
       "      <td>I was not able to use my card, made my patment...</td>\n",
       "      <td>Account Maintenance &amp; Closing  Credit/Debit Ca...</td>\n",
       "    </tr>\n",
       "    <tr>\n",
       "      <th>1</th>\n",
       "      <td>The rebate is a good thing for having a  ABC Y...</td>\n",
       "      <td>Brand  Customer Service  Payments  Policy  Pro...</td>\n",
       "    </tr>\n",
       "    <tr>\n",
       "      <th>2</th>\n",
       "      <td>The person understood my problem.</td>\n",
       "      <td>Representative</td>\n",
       "    </tr>\n",
       "    <tr>\n",
       "      <th>3</th>\n",
       "      <td>Generally not a long time waiting for an agent...</td>\n",
       "      <td>Account Communications  Brand  Fraud Alerts  F...</td>\n",
       "    </tr>\n",
       "    <tr>\n",
       "      <th>4</th>\n",
       "      <td>I received an e-mail from  ABC starting that I...</td>\n",
       "      <td>Customer Service  Fraud and Disputes  Issue Re...</td>\n",
       "    </tr>\n",
       "  </tbody>\n",
       "</table>\n",
       "</div>"
      ],
      "text/plain": [
       "s                                           Comments  \\\n",
       "0  I was not able to use my card, made my patment...   \n",
       "1  The rebate is a good thing for having a  ABC Y...   \n",
       "2                  The person understood my problem.   \n",
       "3  Generally not a long time waiting for an agent...   \n",
       "4  I received an e-mail from  ABC starting that I...   \n",
       "\n",
       "s                                             Labels  \n",
       "0  Account Maintenance & Closing  Credit/Debit Ca...  \n",
       "1  Brand  Customer Service  Payments  Policy  Pro...  \n",
       "2                                    Representative   \n",
       "3  Account Communications  Brand  Fraud Alerts  F...  \n",
       "4  Customer Service  Fraud and Disputes  Issue Re...  "
      ]
     },
     "execution_count": 25,
     "metadata": {},
     "output_type": "execute_result"
    }
   ],
   "source": [
    "df_sample.head()"
   ]
  },
  {
   "cell_type": "code",
   "execution_count": 26,
   "metadata": {},
   "outputs": [
    {
     "data": {
      "text/plain": [
       "pandas.core.frame.DataFrame"
      ]
     },
     "execution_count": 26,
     "metadata": {},
     "output_type": "execute_result"
    }
   ],
   "source": [
    "type(df_sample)"
   ]
  },
  {
   "cell_type": "code",
   "execution_count": 27,
   "metadata": {},
   "outputs": [
    {
     "data": {
      "text/plain": [
       "Index(['Comments', 'Labels'], dtype='object', name='s')"
      ]
     },
     "execution_count": 27,
     "metadata": {},
     "output_type": "execute_result"
    }
   ],
   "source": [
    "df_sample.columns"
   ]
  },
  {
   "cell_type": "code",
   "execution_count": 28,
   "metadata": {},
   "outputs": [],
   "source": [
    "df_sample['category_id'] = df_sample['Labels'].factorize()[0]"
   ]
  },
  {
   "cell_type": "code",
   "execution_count": 29,
   "metadata": {},
   "outputs": [],
   "source": [
    "cat_id_df = df_sample[[\"Labels\", \"category_id\"]].drop_duplicates().sort_values('category_id')"
   ]
  },
  {
   "cell_type": "code",
   "execution_count": 30,
   "metadata": {},
   "outputs": [
    {
     "data": {
      "text/plain": [
       "929"
      ]
     },
     "execution_count": 30,
     "metadata": {},
     "output_type": "execute_result"
    }
   ],
   "source": [
    "df_sample[\"category_id\"].max()"
   ]
  },
  {
   "cell_type": "code",
   "execution_count": 32,
   "metadata": {},
   "outputs": [
    {
     "data": {
      "text/html": [
       "<div>\n",
       "<style scoped>\n",
       "    .dataframe tbody tr th:only-of-type {\n",
       "        vertical-align: middle;\n",
       "    }\n",
       "\n",
       "    .dataframe tbody tr th {\n",
       "        vertical-align: top;\n",
       "    }\n",
       "\n",
       "    .dataframe thead th {\n",
       "        text-align: right;\n",
       "    }\n",
       "</style>\n",
       "<table border=\"1\" class=\"dataframe\">\n",
       "  <thead>\n",
       "    <tr style=\"text-align: right;\">\n",
       "      <th>s</th>\n",
       "      <th>Labels</th>\n",
       "      <th>category_id</th>\n",
       "    </tr>\n",
       "  </thead>\n",
       "  <tbody>\n",
       "    <tr>\n",
       "      <th>0</th>\n",
       "      <td>Account Maintenance &amp; Closing  Credit/Debit Ca...</td>\n",
       "      <td>0</td>\n",
       "    </tr>\n",
       "    <tr>\n",
       "      <th>1</th>\n",
       "      <td>Brand  Customer Service  Payments  Policy  Pro...</td>\n",
       "      <td>1</td>\n",
       "    </tr>\n",
       "    <tr>\n",
       "      <th>2</th>\n",
       "      <td>Representative</td>\n",
       "      <td>2</td>\n",
       "    </tr>\n",
       "    <tr>\n",
       "      <th>3</th>\n",
       "      <td>Account Communications  Brand  Fraud Alerts  F...</td>\n",
       "      <td>3</td>\n",
       "    </tr>\n",
       "    <tr>\n",
       "      <th>4</th>\n",
       "      <td>Customer Service  Fraud and Disputes  Issue Re...</td>\n",
       "      <td>4</td>\n",
       "    </tr>\n",
       "  </tbody>\n",
       "</table>\n",
       "</div>"
      ],
      "text/plain": [
       "s                                             Labels  category_id\n",
       "0  Account Maintenance & Closing  Credit/Debit Ca...            0\n",
       "1  Brand  Customer Service  Payments  Policy  Pro...            1\n",
       "2                                    Representative             2\n",
       "3  Account Communications  Brand  Fraud Alerts  F...            3\n",
       "4  Customer Service  Fraud and Disputes  Issue Re...            4"
      ]
     },
     "execution_count": 32,
     "metadata": {},
     "output_type": "execute_result"
    }
   ],
   "source": [
    "#df_sample.head()\n",
    "cat_id_df.head()"
   ]
  },
  {
   "cell_type": "code",
   "execution_count": 33,
   "metadata": {},
   "outputs": [],
   "source": [
    "cat_to_id = dict(cat_id_df.values)\n",
    "#cat_to_id"
   ]
  },
  {
   "cell_type": "code",
   "execution_count": 34,
   "metadata": {},
   "outputs": [],
   "source": [
    "id_to_cat = dict(cat_id_df[['category_id','Labels']].values)\n",
    "#id_to_cat"
   ]
  },
  {
   "cell_type": "code",
   "execution_count": 35,
   "metadata": {},
   "outputs": [],
   "source": [
    "from sklearn.feature_extraction.text import TfidfVectorizer\n"
   ]
  },
  {
   "cell_type": "code",
   "execution_count": 36,
   "metadata": {},
   "outputs": [],
   "source": [
    "tfidf = TfidfVectorizer(sublinear_tf= True,\n",
    "                        min_df = 5, \n",
    "                       norm= 'l2', \n",
    "                       ngram_range= (1,2), \n",
    "                       stop_words ='english')"
   ]
  },
  {
   "cell_type": "code",
   "execution_count": 37,
   "metadata": {},
   "outputs": [],
   "source": [
    "features= tfidf.fit_transform(df.Comments).toarray()"
   ]
  },
  {
   "cell_type": "code",
   "execution_count": 38,
   "metadata": {},
   "outputs": [
    {
     "data": {
      "text/plain": [
       "(6951, 3046)"
      ]
     },
     "execution_count": 38,
     "metadata": {},
     "output_type": "execute_result"
    }
   ],
   "source": [
    "features.shape"
   ]
  },
  {
   "cell_type": "code",
   "execution_count": 39,
   "metadata": {},
   "outputs": [],
   "source": [
    "from sklearn.model_selection import train_test_split\n"
   ]
  },
  {
   "cell_type": "code",
   "execution_count": 40,
   "metadata": {},
   "outputs": [],
   "source": [
    "\n",
    "X_train,X_test,y_train,y_test=train_test_split(df_sample[\"Comments\"],df_sample[\"Labels\"],random_state=0)"
   ]
  },
  {
   "cell_type": "code",
   "execution_count": 41,
   "metadata": {},
   "outputs": [
    {
     "data": {
      "text/plain": [
       "(5213,)"
      ]
     },
     "execution_count": 41,
     "metadata": {},
     "output_type": "execute_result"
    }
   ],
   "source": [
    "X_train.shape"
   ]
  },
  {
   "cell_type": "code",
   "execution_count": 42,
   "metadata": {},
   "outputs": [
    {
     "data": {
      "text/plain": [
       "(1738,)"
      ]
     },
     "execution_count": 42,
     "metadata": {},
     "output_type": "execute_result"
    }
   ],
   "source": [
    "X_test.shape"
   ]
  },
  {
   "cell_type": "code",
   "execution_count": 43,
   "metadata": {},
   "outputs": [],
   "source": [
    "from sklearn.feature_extraction.text import CountVectorizer"
   ]
  },
  {
   "cell_type": "code",
   "execution_count": 44,
   "metadata": {},
   "outputs": [],
   "source": [
    "count_vect = CountVectorizer()"
   ]
  },
  {
   "cell_type": "code",
   "execution_count": 45,
   "metadata": {},
   "outputs": [],
   "source": [
    "from sklearn.feature_extraction.text import TfidfTransformer\n"
   ]
  },
  {
   "cell_type": "code",
   "execution_count": 46,
   "metadata": {},
   "outputs": [],
   "source": [
    "tfidf_transformer=TfidfTransformer()\n",
    "X_train_counts = count_vect.fit_transform(X_train)\n",
    "X_train_tfidf = tfidf_transformer.fit_transform(X_train_counts)"
   ]
  },
  {
   "cell_type": "code",
   "execution_count": 47,
   "metadata": {},
   "outputs": [],
   "source": [
    "from sklearn.svm import LinearSVC\n",
    "clf = LinearSVC().fit(X_train_tfidf, y_train)"
   ]
  },
  {
   "cell_type": "code",
   "execution_count": 48,
   "metadata": {},
   "outputs": [
    {
     "data": {
      "text/plain": [
       "\"I was not able to use my card, made my patments when my credit rating was effected I phoned  ABC to find out what was going on turns they only needed updated information address  and such within a very short time the information was collected and I could use my new card again hope now my credit rating won't continue to be effected . Won't get my lost rating back  but pope its not effected any more\""
      ]
     },
     "execution_count": 48,
     "metadata": {},
     "output_type": "execute_result"
    }
   ],
   "source": [
    "cmt=df_sample[\"Comments\"].iloc[0]\n",
    "cmt"
   ]
  },
  {
   "cell_type": "code",
   "execution_count": 49,
   "metadata": {},
   "outputs": [
    {
     "name": "stdout",
     "output_type": "stream",
     "text": [
      "['Account Maintenance & Closing  Credit/Debit Card  Policy ']\n"
     ]
    }
   ],
   "source": [
    "print(clf.predict(count_vect.transform([cmt])))"
   ]
  },
  {
   "cell_type": "code",
   "execution_count": 50,
   "metadata": {},
   "outputs": [
    {
     "data": {
      "text/plain": [
       "'Account Maintenance & Closing  Credit/Debit Card  Policy '"
      ]
     },
     "execution_count": 50,
     "metadata": {},
     "output_type": "execute_result"
    }
   ],
   "source": [
    "df_sample[\"Labels\"].iloc[0]"
   ]
  },
  {
   "cell_type": "code",
   "execution_count": 51,
   "metadata": {},
   "outputs": [],
   "source": [
    "y_pred = clf.predict(count_vect.transform(X_test))"
   ]
  },
  {
   "cell_type": "code",
   "execution_count": null,
   "metadata": {},
   "outputs": [],
   "source": []
  },
  {
   "cell_type": "code",
   "execution_count": 52,
   "metadata": {},
   "outputs": [],
   "source": [
    "from sklearn import metrics"
   ]
  },
  {
   "cell_type": "code",
   "execution_count": 53,
   "metadata": {},
   "outputs": [
    {
     "data": {
      "text/plain": [
       "39.06789413118527"
      ]
     },
     "execution_count": 53,
     "metadata": {},
     "output_type": "execute_result"
    }
   ],
   "source": [
    "#from sklearn.metrics import accuracy_score\n",
    "\n",
    "#score = accuracy_score(iris.target, pr)\n",
    "score=metrics.accuracy_score(y_test,y_pred)\n",
    "score*100"
   ]
  },
  {
   "cell_type": "code",
   "execution_count": 54,
   "metadata": {},
   "outputs": [
    {
     "name": "stderr",
     "output_type": "stream",
     "text": [
      "C:\\Users\\HP\\Anaconda3\\lib\\site-packages\\sklearn\\metrics\\classification.py:1428: UserWarning: labels size, 6951, does not match size of target_names, 930\n",
      "  .format(len(labels), len(target_names))\n",
      "C:\\Users\\HP\\Anaconda3\\lib\\site-packages\\sklearn\\metrics\\classification.py:1135: UndefinedMetricWarning: Precision and F-score are ill-defined and being set to 0.0 in labels with no predicted samples.\n",
      "  'precision', 'predicted', average, warn_for)\n",
      "C:\\Users\\HP\\Anaconda3\\lib\\site-packages\\sklearn\\metrics\\classification.py:1137: UndefinedMetricWarning: Recall and F-score are ill-defined and being set to 0.0 in labels with no true samples.\n",
      "  'recall', 'true', average, warn_for)\n"
     ]
    }
   ],
   "source": [
    "#print(metrics.classification_report(y_test,y_pred, labels= df.Product, target_names=df['Product'].unique()))\n",
    "met=metrics.classification_report(y_test,y_pred,labels=df_sample.Labels,target_names=df_sample[\"Labels\"].unique())\n",
    "#print(met)"
   ]
  },
  {
   "cell_type": "code",
   "execution_count": 55,
   "metadata": {},
   "outputs": [],
   "source": [
    "#print(met)"
   ]
  },
  {
   "cell_type": "markdown",
   "metadata": {},
   "source": [
    "import numpy as np\n",
    "from sklearn.pipeline import Pipeline\n",
    "from sklearn.feature_extraction.text import CountVectorizer\n",
    "from sklearn.svm import LinearSVC\n",
    "from sklearn.feature_extraction.text import TfidfTransformer\n",
    "from sklearn.multiclass import OneVsRestClassifier\n",
    "import pandas as pd"
   ]
  },
  {
   "cell_type": "markdown",
   "metadata": {},
   "source": [
    "## trying 2nd method in published paper    OneVsRestClassifier"
   ]
  },
  {
   "cell_type": "code",
   "execution_count": 58,
   "metadata": {},
   "outputs": [],
   "source": [
    "classifier = Pipeline([\n",
    "    ('vectorizer', CountVectorizer()),\n",
    "    ('tfidf', TfidfTransformer()),\n",
    "    ('clf', OneVsRestClassifier(LinearSVC()))])\n",
    "classifier.fit(X_train, y_train)\n",
    "predicted = classifier.predict(X_test)\n"
   ]
  },
  {
   "cell_type": "code",
   "execution_count": 60,
   "metadata": {},
   "outputs": [
    {
     "data": {
      "text/plain": [
       "52.991944764096665"
      ]
     },
     "execution_count": 60,
     "metadata": {},
     "output_type": "execute_result"
    }
   ],
   "source": [
    "score=metrics.accuracy_score(y_test,predicted)\n",
    "score*100"
   ]
  },
  {
   "cell_type": "markdown",
   "metadata": {},
   "source": [
    "#### Thank You, there is more room for improvement but as time is limited i am submiting here. Good Day."
   ]
  },
  {
   "cell_type": "code",
   "execution_count": null,
   "metadata": {},
   "outputs": [],
   "source": []
  }
 ],
 "metadata": {
  "kernelspec": {
   "display_name": "Python 3",
   "language": "python",
   "name": "python3"
  },
  "language_info": {
   "codemirror_mode": {
    "name": "ipython",
    "version": 3
   },
   "file_extension": ".py",
   "mimetype": "text/x-python",
   "name": "python",
   "nbconvert_exporter": "python",
   "pygments_lexer": "ipython3",
   "version": "3.6.5"
  }
 },
 "nbformat": 4,
 "nbformat_minor": 2
}
